{
 "cells": [
  {
   "cell_type": "code",
   "execution_count": 3,
   "id": "80551e4c",
   "metadata": {},
   "outputs": [
    {
     "name": "stdout",
     "output_type": "stream",
     "text": [
      "Enter a number:10\n",
      "Factorial of 10 is 3628800\n"
     ]
    }
   ],
   "source": [
    "fact = 1\n",
    "n = int(input(\"Enter a number:\"))\n",
    "\n",
    "for i in range(1, n+1):\n",
    "    fact=fact*i\n",
    "print(\"Factorial of\", n, \"is\", fact)    "
   ]
  },
  {
   "cell_type": "code",
   "execution_count": 5,
   "id": "00ddd602",
   "metadata": {},
   "outputs": [
    {
     "name": "stdout",
     "output_type": "stream",
     "text": [
      "Enter a number:7\n",
      "7 is an prime number\n"
     ]
    }
   ],
   "source": [
    "count = 0\n",
    "n = int(input(\"Enter a number:\"))\n",
    "for i in range(1,n+1):\n",
    "    if n%i==0:\n",
    "        count+=1\n",
    "if count==2:\n",
    "    print(n,\"is an prime number\")\n",
    "else:\n",
    "    print(n,\"is an composite number\")"
   ]
  },
  {
   "cell_type": "code",
   "execution_count": 7,
   "id": "86ceeafd",
   "metadata": {},
   "outputs": [
    {
     "name": "stdout",
     "output_type": "stream",
     "text": [
      "Enter the string to check palindrome or not:racacar\n",
      "Yes, it is an palindrome\n"
     ]
    }
   ],
   "source": [
    "string = input(\"Enter the string to check palindrome or not:\")\n",
    "\n",
    "string = string.casefold()\n",
    "if (string==string[::-1]):\n",
    "    print(\"Yes, it is an palindrome\")\n",
    "else:\n",
    "    print(\"No, its not an palindrome\")"
   ]
  },
  {
   "cell_type": "code",
   "execution_count": 8,
   "id": "1038e5f1",
   "metadata": {},
   "outputs": [
    {
     "name": "stdout",
     "output_type": "stream",
     "text": [
      "a: 5\n",
      "b: 6\n",
      "The length of the hypotenuse is: 7.810249675906654\n"
     ]
    }
   ],
   "source": [
    "from math import sqrt\n",
    "a = float(input(\"a: \"))\n",
    "b = float(input(\"b: \"))\n",
    "c = sqrt(a**2 + b**2)\n",
    "print(\"The length of the hypotenuse is:\", c )"
   ]
  },
  {
   "cell_type": "raw",
   "id": "08fbf4a5",
   "metadata": {},
   "source": []
  },
  {
   "cell_type": "code",
   "execution_count": 9,
   "id": "dcaee2ae",
   "metadata": {},
   "outputs": [
    {
     "name": "stdout",
     "output_type": "stream",
     "text": [
      "{'m': 3, ' ': 3, 'h': 1, 's': 2, 'e': 2, 'u': 1, 'n': 1, 'y': 1, 'a': 1, 'i': 1}\n"
     ]
    }
   ],
   "source": [
    "string = \"my name is umesh\"\n",
    "\n",
    "frequency = {i: string.count(i) for i in set(string)}\n",
    "\n",
    "print(frequency)"
   ]
  },
  {
   "cell_type": "code",
   "execution_count": null,
   "id": "8efa8ff3",
   "metadata": {},
   "outputs": [],
   "source": []
  }
 ],
 "metadata": {
  "kernelspec": {
   "display_name": "Python 3 (ipykernel)",
   "language": "python",
   "name": "python3"
  },
  "language_info": {
   "codemirror_mode": {
    "name": "ipython",
    "version": 3
   },
   "file_extension": ".py",
   "mimetype": "text/x-python",
   "name": "python",
   "nbconvert_exporter": "python",
   "pygments_lexer": "ipython3",
   "version": "3.9.13"
  }
 },
 "nbformat": 4,
 "nbformat_minor": 5
}
